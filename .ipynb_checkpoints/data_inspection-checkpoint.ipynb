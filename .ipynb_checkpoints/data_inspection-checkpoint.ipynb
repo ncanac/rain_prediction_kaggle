{
 "metadata": {
  "name": "",
  "signature": "sha256:a7453e767a1ade1c4fa2c11ad41173542944f07144aa71d6b058d51c2db7cd5c"
 },
 "nbformat": 3,
 "nbformat_minor": 0,
 "worksheets": [
  {
   "cells": [
    {
     "cell_type": "code",
     "collapsed": false,
     "input": [
      "%matplotlib inline\n",
      "import matplotlib\n",
      "import pandas as pd\n",
      "import numpy as np\n",
      "import matplotlib.pyplot as plt"
     ],
     "language": "python",
     "metadata": {},
     "outputs": [],
     "prompt_number": 1
    },
    {
     "cell_type": "code",
     "collapsed": false,
     "input": [
      "infile = \"data/test_small.csv\"\n",
      "outfile = \"sample_solution.csv\""
     ],
     "language": "python",
     "metadata": {},
     "outputs": [],
     "prompt_number": 2
    },
    {
     "cell_type": "code",
     "collapsed": false,
     "input": [
      "testdata = pd.read_csv(infile)"
     ],
     "language": "python",
     "metadata": {},
     "outputs": [],
     "prompt_number": 3
    },
    {
     "cell_type": "heading",
     "level": 3,
     "metadata": {},
     "source": [
      "Estimate expected rainfall using Marshall-palmer relationship (http://glossary.ametsoc.org/wiki/Marshall-palmer_relation)"
     ]
    },
    {
     "cell_type": "code",
     "collapsed": false,
     "input": [
      "def marshall_palmer(ref, minutes_past):\n",
      "    # how long is each observation valid?\n",
      "    valid_time = np.zeros_like(minutes_past)\n",
      "    valid_time[0] = minutes_past.iloc[0]\n",
      "    for n in xrange(1, len(minutes_past)):\n",
      "        valid_time[n] = minutes_past.iloc[n] - minutes_past.iloc[n-1]\n",
      "    valid_time[-1] = valid_time[-1] + 60 - np.sum(valid_time)\n",
      "    valid_time = valid_time / 60.0\n",
      "    # sum up rainrate*validtime\n",
      "    sum = 0\n",
      "    for dbz, hours in zip(ref, valid_time):\n",
      "        if np.isfinite(dbz):\n",
      "            mmperhr = pow(pow(10, dbz/10)/200, 0.625)\n",
      "            sum = sum + mmperhr * hours\n",
      "    return sum"
     ],
     "language": "python",
     "metadata": {},
     "outputs": [],
     "prompt_number": 4
    },
    {
     "cell_type": "code",
     "collapsed": false,
     "input": [
      "def myfunc(hour):\n",
      "    #rowid = hour['Id'].iloc[0]\n",
      "    # sort hour by minutes_past\n",
      "    hour = hour.sort('minutes_past', ascending=True)\n",
      "    est = marshall_palmer(hour['Ref'], hour['minutes_past'])\n",
      "    return est"
     ],
     "language": "python",
     "metadata": {},
     "outputs": [],
     "prompt_number": 5
    },
    {
     "cell_type": "code",
     "collapsed": false,
     "input": [
      "testdata.set_index('Id')\n",
      "testdata_groups = testdata.groupby(by=['Id'])\n",
      "estimates_mp = testdata_groups.apply(myfunc)\n",
      "estimates_mp.name = \"Expected\""
     ],
     "language": "python",
     "metadata": {},
     "outputs": [
      {
       "output_type": "stream",
       "stream": "stderr",
       "text": [
        "-c:4: FutureWarning: sort(columns=....) is deprecated, use sort_values(by=.....)\n"
       ]
      }
     ],
     "prompt_number": 6
    },
    {
     "cell_type": "heading",
     "level": 3,
     "metadata": {},
     "source": [
      "Plot expected rainfall in training data"
     ]
    },
    {
     "cell_type": "code",
     "collapsed": false,
     "input": [
      "# Read in data file and output summary\n",
      "train_file = \"data/train_small.csv\"\n",
      "train_df = pd.read_csv(train_file, usecols = ['Id', 'Expected'])\n",
      "print(train_df['Expected'].describe())"
     ],
     "language": "python",
     "metadata": {},
     "outputs": [
      {
       "output_type": "stream",
       "stream": "stdout",
       "text": [
        "count    1045.000000\n",
        "mean      145.823919\n",
        "std       461.854687\n",
        "min         0.010000\n",
        "25%         0.254000\n",
        "50%         1.270001\n",
        "75%         4.064002\n",
        "max      2976.627700\n",
        "Name: Expected, dtype: float64\n"
       ]
      }
     ],
     "prompt_number": 7
    },
    {
     "cell_type": "code",
     "collapsed": false,
     "input": [
      "# Group rows based on id and get expected rainfall\n",
      "train_df_groups = train_df.groupby(['Id'])\n",
      "exp_rainfall = np.array(train_df_groups['Expected'].aggregate('mean'))"
     ],
     "language": "python",
     "metadata": {},
     "outputs": [],
     "prompt_number": 8
    },
    {
     "cell_type": "code",
     "collapsed": false,
     "input": [
      "plt.figure(figsize=(10,7))\n",
      "plt.scatter(np.arange(exp_rainfall.shape[0]), exp_rainfall)\n",
      "plt.xlabel(\"Id\")\n",
      "plt.ylabel(\"Rainfall in mm\")\n",
      "plt.xlim(0,100)"
     ],
     "language": "python",
     "metadata": {},
     "outputs": [
      {
       "metadata": {},
       "output_type": "pyout",
       "prompt_number": 9,
       "text": [
        "(0, 100)"
       ]
      },
      {
       "output_type": "stream",
       "stream": "stderr",
       "text": [
        "/usr/lib/pymodules/python2.7/matplotlib/collections.py:548: FutureWarning: elementwise comparison failed; returning scalar instead, but in the future will perform elementwise comparison\n",
        "  if self._edgecolors == 'face':\n"
       ]
      },
      {
       "metadata": {},
       "output_type": "display_data",
       "png": "[encoded data removed]",
       "text": [
        "<matplotlib.figure.Figure at 0x7f17a36e1ed0>"
       ]
      }
     ],
     "prompt_number": 9
    },
    {
     "cell_type": "code",
     "collapsed": false,
     "input": [
      "# Plot again, but sort\n",
      "exp_rainfall_sorted = np.sort(exp_rainfall)\n",
      "plt.figure(figsize=(10,7))\n",
      "plt.scatter(np.arange(exp_rainfall_sorted.shape[0]), exp_rainfall_sorted)\n",
      "plt.ylabel(\"Rainfall in mm\")\n",
      "plt.xlim(0,100)"
     ],
     "language": "python",
     "metadata": {},
     "outputs": [
      {
       "metadata": {},
       "output_type": "pyout",
       "prompt_number": 10,
       "text": [
        "(0, 100)"
       ]
      },
      {
       "metadata": {},
       "output_type": "display_data",
       "png": "[encoded data removed]",
       "text": [
        "<matplotlib.figure.Figure at 0x7f17a2fd2f10>"
       ]
      }
     ],
     "prompt_number": 10
    },
    {
     "cell_type": "code",
     "collapsed": false,
     "input": [
      "# Read in all training data\n",
      "all_train_file = \"data/train_small.csv\"\n",
      "all_train_df = pd.read_csv(all_train_file)"
     ],
     "language": "python",
     "metadata": {},
     "outputs": [],
     "prompt_number": 11
    },
    {
     "cell_type": "code",
     "collapsed": false,
     "input": [
      "# List out columns in training data\n",
      "for column in all_train_df.columns:\n",
      "    print column"
     ],
     "language": "python",
     "metadata": {},
     "outputs": [
      {
       "output_type": "stream",
       "stream": "stdout",
       "text": [
        "Id\n",
        "minutes_past\n",
        "radardist_km\n",
        "Ref\n",
        "Ref_5x5_10th\n",
        "Ref_5x5_50th\n",
        "Ref_5x5_90th\n",
        "RefComposite\n",
        "RefComposite_5x5_10th\n",
        "RefComposite_5x5_50th\n",
        "RefComposite_5x5_90th\n",
        "RhoHV\n",
        "RhoHV_5x5_10th\n",
        "RhoHV_5x5_50th\n",
        "RhoHV_5x5_90th\n",
        "Zdr\n",
        "Zdr_5x5_10th\n",
        "Zdr_5x5_50th\n",
        "Zdr_5x5_90th\n",
        "Kdp\n",
        "Kdp_5x5_10th\n",
        "Kdp_5x5_50th\n",
        "Kdp_5x5_90th\n",
        "Expected\n"
       ]
      }
     ],
     "prompt_number": 34
    },
    {
     "cell_type": "code",
     "collapsed": false,
     "input": [
      "# Check that expected is the same for all entries with same Id value\n",
      "num_ids = all_train_df['Id'].nunique()\n",
      "for i in xrange(1, num_ids + 1):\n",
      "    expected_array = np.array(all_train_df.loc[all_train_df['Id'] == i]['Expected'])\n",
      "    assert(np.all(expected_array == [expected_array[0]]*len(expected_array)) == True)"
     ],
     "language": "python",
     "metadata": {},
     "outputs": [],
     "prompt_number": 13
    },
    {
     "cell_type": "heading",
     "level": 3,
     "metadata": {},
     "source": [
      "Try training a random forest using reflectivity only"
     ]
    },
    {
     "cell_type": "code",
     "collapsed": false,
     "input": [
      "# Select reflectivity values only and compute mean and sum by Id values\n",
      "ref_train_df = all_train_df[['Id', 'Ref', 'Expected']]\n",
      "ref_train_df_mean = ref_train_df.groupby('Id').mean()\n",
      "ref_train_df_sum = ref_train_df.groupby('Id').sum()"
     ],
     "language": "python",
     "metadata": {},
     "outputs": [],
     "prompt_number": 14
    },
    {
     "cell_type": "code",
     "collapsed": false,
     "input": [
      "from sklearn.ensemble import RandomForestRegressor\n",
      "from sklearn.preprocessing import Imputer\n",
      "from sklearn.metrics import mean_absolute_error as mae"
     ],
     "language": "python",
     "metadata": {},
     "outputs": [],
     "prompt_number": 15
    },
    {
     "cell_type": "code",
     "collapsed": false,
     "input": [
      "# Set X_train to be the mean and sum reflectivity values and y_train to be the expected rainfall\n",
      "X_train = np.array(zip(np.array(ref_train_df_mean['Ref']), np.array(ref_train_df_sum['Ref'])))\n",
      "y_train = np.array(ref_train_df_mean['Expected'])"
     ],
     "language": "python",
     "metadata": {},
     "outputs": [],
     "prompt_number": 16
    },
    {
     "cell_type": "code",
     "collapsed": false,
     "input": [
      "# User imputer to replace NaN values with mean\n",
      "imp = Imputer(missing_values='NaN', strategy='mean', axis=0)\n",
      "imp = imp.fit(X_train)\n",
      "X_train_imp = imp.transform(X_train)"
     ],
     "language": "python",
     "metadata": {},
     "outputs": [],
     "prompt_number": 17
    },
    {
     "cell_type": "code",
     "collapsed": false,
     "input": [
      "estimator = RandomForestRegressor(n_estimators=100)\n",
      "estimator.fit(X_train_imp, y_train)"
     ],
     "language": "python",
     "metadata": {},
     "outputs": [
      {
       "metadata": {},
       "output_type": "pyout",
       "prompt_number": 19,
       "text": [
        "RandomForestRegressor(bootstrap=True, criterion='mse', max_depth=None,\n",
        "           max_features='auto', max_leaf_nodes=None, min_samples_leaf=1,\n",
        "           min_samples_split=2, min_weight_fraction_leaf=0.0,\n",
        "           n_estimators=100, n_jobs=1, oob_score=False, random_state=None,\n",
        "           verbose=0, warm_start=False)"
       ]
      }
     ],
     "prompt_number": 19
    },
    {
     "cell_type": "code",
     "collapsed": false,
     "input": [
      "# Evaluate mean absolute error for training set\n",
      "y_train_pred = estimator.predict(X_train_imp)\n",
      "print mae(y_train, y_train_pred)"
     ],
     "language": "python",
     "metadata": {},
     "outputs": [
      {
       "output_type": "stream",
       "stream": "stdout",
       "text": [
        "225.590816391\n"
       ]
      }
     ],
     "prompt_number": 20
    },
    {
     "cell_type": "code",
     "collapsed": false,
     "input": [
      "# Compare to Marshall-Palmer\n",
      "print mae(y_train, np.array(estimates_mp))"
     ],
     "language": "python",
     "metadata": {},
     "outputs": [
      {
       "output_type": "stream",
       "stream": "stdout",
       "text": [
        "171.242452526\n"
       ]
      }
     ],
     "prompt_number": 21
    },
    {
     "cell_type": "code",
     "collapsed": false,
     "input": [
      "# Compare to median\n",
      "print mae(y_train, [np.median(y_train)]*len(y_train))"
     ],
     "language": "python",
     "metadata": {},
     "outputs": [
      {
       "output_type": "stream",
       "stream": "stdout",
       "text": [
        "170.860512357\n"
       ]
      }
     ],
     "prompt_number": 30
    },
    {
     "cell_type": "code",
     "collapsed": false,
     "input": [
      "# Compare to mean\n",
      "print mae(y_train, [np.mean(y_train)]*len(y_train))"
     ],
     "language": "python",
     "metadata": {},
     "outputs": [
      {
       "output_type": "stream",
       "stream": "stdout",
       "text": [
        "290.58278838\n"
       ]
      }
     ],
     "prompt_number": 31
    },
    {
     "cell_type": "heading",
     "level": 3,
     "metadata": {},
     "source": [
      "Predict expected rainfall for test data using random forest"
     ]
    },
    {
     "cell_type": "code",
     "collapsed": false,
     "input": [
      "all_test_df = pd.read_csv(\"data/test_small.csv\")\n",
      "ref_test_df = all_test_df[['Id', 'Ref']]\n",
      "ref_test_df_mean = ref_test_df.groupby('Id').mean()\n",
      "ref_test_df_sum = ref_test_df.groupby('Id').sum()"
     ],
     "language": "python",
     "metadata": {},
     "outputs": [],
     "prompt_number": 24
    },
    {
     "cell_type": "code",
     "collapsed": false,
     "input": [
      "X_test = np.array(zip(np.array(ref_test_df_mean['Ref']), np.array(ref_test_df_sum['Ref'])))\n",
      "X_test_imp = imp.transform(X_test)"
     ],
     "language": "python",
     "metadata": {},
     "outputs": [],
     "prompt_number": 25
    },
    {
     "cell_type": "code",
     "collapsed": false,
     "input": [
      "estimator.predict(X_test_imp)"
     ],
     "language": "python",
     "metadata": {},
     "outputs": [
      {
       "metadata": {},
       "output_type": "pyout",
       "prompt_number": 26,
       "text": [
        "array([  3.58800604e+01,   3.05591212e+02,   1.63027630e+02,\n",
        "         2.67582140e+00,   3.05591212e+02,   7.22909812e+01,\n",
        "         2.65176139e+00,   1.72273567e+01,   3.05591212e+02,\n",
        "         2.49958798e+02,   4.93947957e+02,   7.35406611e+01,\n",
        "         3.52888186e+00,   1.79707997e+02,   3.05591212e+02,\n",
        "         3.05591212e+02,   3.05591212e+02,   2.74929756e+01,\n",
        "         2.31604119e+00,   3.05591212e+02,   3.05591212e+02,\n",
        "         7.06514387e+00,   5.60583305e+00,   3.05591212e+02,\n",
        "         3.05591212e+02,   2.94640152e-01,   2.97180153e-01,\n",
        "         3.05591212e+02,   3.05591212e+02,   2.67762172e+02,\n",
        "         3.05591212e+02,   5.51180278e-01,   4.90220243e-01,\n",
        "         3.05591212e+02,   3.05591212e+02,   6.99859283e+02,\n",
        "         3.05591212e+02,   3.05591212e+02,   5.22562540e+01,\n",
        "         6.03942043e+01,   3.05591212e+02,   5.62246274e+02,\n",
        "         3.05591212e+02,   3.05591212e+02,   3.05591212e+02,\n",
        "         3.05591212e+02,   8.67415440e+00,   3.05591212e+02,\n",
        "         3.05591212e+02,   3.05591212e+02,   5.23377280e+00,\n",
        "         3.05591212e+02,   8.09725220e+01,   3.05591212e+02,\n",
        "         3.05591212e+02,   3.05591212e+02,   1.70212087e+00,\n",
        "         3.05591212e+02,   5.94461313e+00,   2.98968158e+00,\n",
        "         8.29671429e+00,   1.76530095e+00,   9.19871513e+01,\n",
        "         1.45542076e+00,   3.05591212e+02,   3.05591212e+02,\n",
        "         3.05591212e+02,   4.24286219e+00,   3.05591212e+02,\n",
        "         3.05591212e+02,   8.05739258e+01,   3.05591212e+02,\n",
        "         3.05591212e+02,   3.05591212e+02,   1.60080082e+00,\n",
        "         2.94640152e-01,   3.05591212e+02,   3.05591212e+02,\n",
        "         7.91685729e+02,   3.05591212e+02,   2.12755595e+02,\n",
        "         3.05591212e+02,   1.60020081e+00,   3.05591212e+02,\n",
        "         3.05591212e+02,   2.15064110e+00,   3.05591212e+02,\n",
        "         2.84480146e-01,   4.30395625e+02,   2.74320141e-01,\n",
        "         3.05591212e+02,   5.38480271e-01,   3.91160196e-01,\n",
        "         3.05591212e+02,   3.05591212e+02,   3.05591212e+02,\n",
        "         1.17327747e+02,   6.35762361e+01,   4.75135211e+02,\n",
        "         3.05591212e+02])"
       ]
      }
     ],
     "prompt_number": 26
    },
    {
     "cell_type": "code",
     "collapsed": false,
     "input": [],
     "language": "python",
     "metadata": {},
     "outputs": []
    }
   ],
   "metadata": {}
  }
 ]
}